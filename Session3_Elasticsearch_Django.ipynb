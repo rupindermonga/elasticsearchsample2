{
 "cells": [
  {
   "cell_type": "markdown",
   "metadata": {},
   "source": [
    "# Recap\n",
    "- Fundamentals of Elasticsearch \n",
    "- **elasticsearch_py**: Low level python client for Elasticsearch\n",
    "- **elasticsearch_dsl_py**: High level python client for Elasticsearch built on top of **elasticsearch_py**\n",
    "\n",
    "We imported twitter data into Python data structures using **Pandas**:"
   ]
  },
  {
   "cell_type": "code",
   "execution_count": null,
   "metadata": {},
   "outputs": [],
   "source": [
    "# Add code to import csv using Pandas (include instructions to install Python3 and then install pandas)"
   ]
  },
  {
   "cell_type": "markdown",
   "metadata": {},
   "source": [
    " and indexed a part of it (2k to 4k tweets, depending upon the user) as follows:"
   ]
  },
  {
   "cell_type": "code",
   "execution_count": null,
   "metadata": {},
   "outputs": [],
   "source": [
    "# Add code to index the dictionary into a running elasticsearch cluster \n",
    "# (include instructions to install and run elasticsearch and kibana)\n",
    "# Also include instructions to install elasticsearch_py and elasticsearch_dsl_py"
   ]
  },
  {
   "cell_type": "markdown",
   "metadata": {},
   "source": [
    "Since Elasticsearch itself does primarily two operations - **Indexing** and **Searching** - the elasticsearch_dsl_py also has two primary structures to work with - **Document** and **Search**. This python client has a more _pythonic sytanx_, hence offering us the chain syntax. This syntax, while convenient, **needs to be used with caution**. Here are some examples of how the behavior of chains becomes different with different functions: "
   ]
  },
  {
   "cell_type": "code",
   "execution_count": null,
   "metadata": {},
   "outputs": [],
   "source": [
    "# Add example of s.query()"
   ]
  },
  {
   "cell_type": "code",
   "execution_count": null,
   "metadata": {},
   "outputs": [],
   "source": [
    "# Add example of s.execute()"
   ]
  },
  {
   "cell_type": "code",
   "execution_count": null,
   "metadata": {},
   "outputs": [],
   "source": [
    "# Add example of s.query().query()"
   ]
  },
  {
   "cell_type": "markdown",
   "metadata": {},
   "source": [
    "While one can index data from any different kinds of sources - json files, csv files, data generated in real time from execution of python code (for instance, for logging purposes) - one particular search scenario is almost always required from a web application point of view, and this scenario is searching through the data that needs to be presented to end users. Therefore, we are going to discuss using Elasticsearch to provide search functionality to the end user of any web application. In the current example, we'll leverage **Django** framework for working with web applications."
   ]
  },
  {
   "cell_type": "code",
   "execution_count": null,
   "metadata": {},
   "outputs": [],
   "source": [
    "# Instructions to download and install django (python 3)"
   ]
  },
  {
   "cell_type": "markdown",
   "metadata": {},
   "source": [
    "### Introducing Django"
   ]
  },
  {
   "cell_type": "code",
   "execution_count": null,
   "metadata": {},
   "outputs": [],
   "source": [
    "!python manage.py startapp search\n"
   ]
  },
  {
   "cell_type": "code",
   "execution_count": null,
   "metadata": {},
   "outputs": [],
   "source": [
    "Edit the settings file and add your app, and the django_elasticsearch_dsl to the INSTALLED_APPS list:\n",
    "    'django_elasticsearch_dsl',\n",
    "'search',\n",
    "\n"
   ]
  },
  {
   "cell_type": "markdown",
   "metadata": {},
   "source": [
    "Create a file documents.py inside the search app folder and fill it with this information:"
   ]
  },
  {
   "cell_type": "code",
   "execution_count": null,
   "metadata": {},
   "outputs": [],
   "source": [
    "from django_elasticsearch_dsl import DocType, Index\n",
    "from blog.models import Post\n",
    "\n",
    "posts = Index('posts')\n",
    "\n",
    "@posts.doc_type\n",
    "class PostDocument(DocType):\n",
    "    class Meta:\n",
    "        model = Post\n",
    "\n",
    "        fields = [\n",
    "            'title',\n",
    "            'id',\n",
    "            'slug',\n",
    "            'image',\n",
    "            'description',\n",
    "        ]"
   ]
  },
  {
   "cell_type": "markdown",
   "metadata": {},
   "source": [
    "In here we create an index called posts and connect the Post model with the engine by subclassing DocType.\n",
    "\n",
    "We also specify the fields we want to index from the Post model.\n",
    "\n",
    "In this tutorial we will be searching only by the title, but I also index other fields so we can use them in the result page without accessing the site database. Like the id or slug for creating a link and image for the image path.\n",
    "\n",
    "The actual Post model looks like this in the example site:"
   ]
  },
  {
   "cell_type": "code",
   "execution_count": null,
   "metadata": {},
   "outputs": [],
   "source": []
  },
  {
   "cell_type": "code",
   "execution_count": null,
   "metadata": {},
   "outputs": [],
   "source": [
    "from django.db import models\n",
    "from django.utils.text import slugify\n",
    "\n",
    "class Post(models.Model):\n",
    "\n",
    "    title = models.CharField(max_length=255, blank=True, null=True)\n",
    "    description = models.TextField(blank=True, null=True)\n",
    "    image = models.ImageField(upload_to=\"post_images\")\n",
    "    body = models.TextField(blank=True, null=True)\n",
    "    order = models.IntegerField(blank=True, null=True)\n",
    "\n",
    "    slug = models.SlugField(default='', blank=True)\n",
    "\n",
    "    def save(self):\n",
    "        self.slug = slugify(self.title)\n",
    "        super(Post, self).save()\n",
    "\n",
    "    def __str__(self):\n",
    "        return '%s' % self.title\n"
   ]
  },
  {
   "cell_type": "markdown",
   "metadata": {},
   "source": [
    " Run this command to index the blog posts:"
   ]
  },
  {
   "cell_type": "code",
   "execution_count": null,
   "metadata": {},
   "outputs": [],
   "source": [
    "python manage.py search_index --rebuild"
   ]
  },
  {
   "cell_type": "markdown",
   "metadata": {},
   "source": [
    "Open the search app views.py file and write these lines in it:"
   ]
  },
  {
   "cell_type": "code",
   "execution_count": null,
   "metadata": {},
   "outputs": [],
   "source": [
    "from django.shortcuts import render\n",
    "\n",
    "from search.documents import PostDocument\n",
    "\n",
    "def search(request):\n",
    "\n",
    "    q = request.GET.get('q')\n",
    "\n",
    "    if q:\n",
    "        posts = PostDocument.search().query(\"match\", title=q)\n",
    "    else:\n",
    "        posts = ''\n",
    "\n",
    "    return render(request, 'search/search.html', {'posts': posts})\n"
   ]
  },
  {
   "cell_type": "markdown",
   "metadata": {},
   "source": [
    "In here we get the search word q and find titles matching that word.\n",
    "\n",
    "Add url pattern for the search page. In here I add the pattern to the main urls.py file:"
   ]
  },
  {
   "cell_type": "code",
   "execution_count": null,
   "metadata": {},
   "outputs": [],
   "source": [
    "from search import views as search_views # < here\n",
    "\n",
    "urlpatterns = [\n",
    "    url(r'^admin/', admin.site.urls),\n",
    "    url(r'^', include('base.urls')),\n",
    "    url(r'^search/', search_views.search, name='search'), # < here\n",
    "] + static(settings.MEDIA_URL, document_root=settings.MEDIA_ROOT)"
   ]
  },
  {
   "cell_type": "markdown",
   "metadata": {},
   "source": [
    "Create a template in search/templates/search/search.html."
   ]
  },
  {
   "cell_type": "code",
   "execution_count": null,
   "metadata": {},
   "outputs": [],
   "source": [
    "<form method=\"get\">\n",
    "\n",
    "  <input id=\"q\" name=\"q\" type=\"text\" placeholder=\"your search...\">\n",
    "\n",
    "</form>\n",
    "\n",
    "{% for item in posts %}\n",
    "\n",
    "  {{ item.id }}\n",
    "  {{ item.title }}\n",
    "  {{ item.slug }}\n",
    "  {{ item.image }}\n",
    "\n",
    "  <br>\n",
    "\n",
    "{% endfor %}\n"
   ]
  },
  {
   "cell_type": "code",
   "execution_count": null,
   "metadata": {},
   "outputs": [],
   "source": [
    "A more well formatted "
   ]
  },
  {
   "cell_type": "code",
   "execution_count": null,
   "metadata": {},
   "outputs": [],
   "source": [
    "<head>\n",
    "<link href=\"https://maxcdn.bootstrapcdn.com/font-awesome/4.7.0/css/font-awesome.min.css\" rel=\"stylesheet\">\n",
    "<link href=\"/static/searchApp/search.css\" rel=\"stylesheet\" type=\"text/css\" media=\"screen\" />\n",
    "</head>\n",
    "{% load static %}\n",
    "{% block content %}\n",
    "<form class=\"search\" method=\"get\">\n",
    "  <i class=\"fa fa-search search-icon\"></i>\n",
    "  <input class=\"search-input\" id=\"q\" {% if request.GET.q %}value=\"{{ request.GET.q }}\"{% endif %} name=\"q\" type=\"text\" placeholder=\"your search...\">\n",
    "    \n",
    "</form>\n",
    "\n",
    "{% for item in posts %}\n",
    "\n",
    "<a class=\"post\">\n",
    "  <div class=\"post__title post__item\">\n",
    "    {{ item.title }}\n",
    "  </div>\n",
    "  <div class=\"post__description post__item\">\n",
    "    {{ item.description }}\n",
    "  </div>  \n",
    "</a>\n",
    "{% endfor %}\n",
    "\n",
    "{% endblock %}"
   ]
  }
 ],
 "metadata": {
  "kernelspec": {
   "display_name": "Python 2",
   "language": "python",
   "name": "python2"
  },
  "language_info": {
   "codemirror_mode": {
    "name": "ipython",
    "version": 2
   },
   "file_extension": ".py",
   "mimetype": "text/x-python",
   "name": "python",
   "nbconvert_exporter": "python",
   "pygments_lexer": "ipython2",
   "version": "2.7.10"
  }
 },
 "nbformat": 4,
 "nbformat_minor": 2
}
